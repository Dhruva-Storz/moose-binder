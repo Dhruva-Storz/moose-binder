{
 "cells": [
  {
   "cell_type": "markdown",
   "metadata": {},
   "source": [
    "# Notebook Index"
   ]
  },
  {
   "cell_type": "markdown",
   "metadata": {},
   "source": [
    "This document links the different ipython notebooks, and places them in the context of the documentation as binder's format can be a bit confusing for those not familiar with jupyter. \n",
    "\n",
    "Clicking the blue hyperlinks below will open the jupyter notebook they are linked to.\n",
    "\n",
    "## MOOSE Quickstart\n",
    "\n",
    "If you are new to MOOSE, the first thing you will want to check out is the quickstart of MOOSE. This section contains interactive tutorials on using python scripting in MOOSE, and provides a few simple examples of models that will allow you to get familiar with the basic components and features of MOOSE. \n",
    "\n",
    "The first thing you should do as a beginner to MOOSE is go through the 'Introduction to Python Scripting in MOOSE', which can be accessed by clicking the link below\n",
    "\n",
    "- [Introduction to Python Scripting in MOOSE](quickstart/Getting started with python scripting for MOOSE.ipynb)\n",
    "\n",
    "\n",
    "## Teaching Tutorials\n",
    "\n",
    "These are models that illustrate different aspects of Chemical Bistable and Oscillatory systems. The notebooks are quite self-explanatory. They can be used to teach concepts, gain an intuitive understanding of them, or learn how to model the systems they describe.\n",
    "\n",
    "Viewing the models as jupyter notebooks adds a level of interactivity to them. The text at the beginning of each model outlines a few things you can change in the model. Once youre done changing the code, you can hit ``Run`` or ``SHIFT+ENTER`` to execute it, as you might have done in the quickstart section.\n",
    "\n",
    "### Chemical Bistables\n",
    "\n",
    "1. [Simple Bistables](tutorials/bistables/simpleBis.ipynb)\n",
    "2. [Scale Volumes](tutorials/bistables/scaleVolumes.ipynb)\n",
    "3. [Strong Bistables](tutorials/bistables/StrongBis.ipynb)\n",
    "4. [Mapk Feedback model](tutorials/bistables/mapkFB.ipynb)\n",
    "5. [Propogation Bistable](tutorials/bistables/PropagationBis.ipynb)\n",
    "6. [Find Steady State](tutorials/bistables/findSteadyState.ipynb)\n",
    "7. [Dose Response](tutorials/bistables/DoseResponse.ipynb) (UNDER CONSTRUCTION)\n",
    "\n",
    "### Chemical Oscillators\n",
    "\n",
    "1. [Slow Feedback Oscillator](tutorials/oscillators/slowFbOsc.ipynb)\n",
    "2. [1D Turing Pattern Oscillator](tutorials/oscillators/TuringOneDim.ipynb)\n",
    "3. [Relaxation Oscillator](tutorials/oscillators/relaxationOsc.ipynb)\n",
    "4. [Repressilator](tutorials/oscillators/repressilator.ipynb)\n"
   ]
  }
 ],
 "metadata": {
  "kernelspec": {
   "display_name": "Python 2",
   "language": "python",
   "name": "python2"
  },
  "language_info": {
   "codemirror_mode": {
    "name": "ipython",
    "version": 2
   },
   "file_extension": ".py",
   "mimetype": "text/x-python",
   "name": "python",
   "nbconvert_exporter": "python",
   "pygments_lexer": "ipython2",
   "version": "2.7.12"
  }
 },
 "nbformat": 4,
 "nbformat_minor": 2
}
