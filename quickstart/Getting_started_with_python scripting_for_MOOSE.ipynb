{
 "cells": [
  {
   "cell_type": "markdown",
   "metadata": {},
   "source": [
    "# Introduction to python scripting for MOOSE"
   ]
  },
  {
   "cell_type": "markdown",
   "metadata": {},
   "source": [
    "![Multiple scales can be modelled and simulated in MOOSE](Gallery_Moose_Multiscale.png)"
   ]
  },
  {
   "cell_type": "markdown",
   "metadata": {},
   "source": [
    "This document describes how to use the ``moose`` module in Python\n",
    "scripts or in an interactive Python shell. It aims to give you enough\n",
    "overview to help you start scripting using MOOSE and extract farther\n",
    "information that may be required for advanced work. Knowledge of\n",
    "Python or programming in general will be helpful. If you just want to\n",
    "simulate existing models in one of the supported formats, you can fire\n",
    "the MOOSE GUI and locate the model file using the ``File`` menu and\n",
    "load it. The GUI is described in separate document. If you\n",
    "are looking for recipes for specific tasks, take a look at\n",
    "`cookbook`. The example code in the boxes can be entered in\n",
    "a Python shell.\n",
    "\n",
    "MOOSE is object-oriented. Biological concepts are mapped into classes, and a model is built by creating instances of these classes and connecting them by messages. MOOSE also has numerical classes whose job is to take over difficult computations in a certain domain, and do them fast. There are such solver classes for stochastic and deterministic chemistry, for diffusion, and for multicompartment neuronal models.\n",
    "\n",
    "MOOSE is a simulation environment, not just a numerical engine: It provides data representations and solvers (of course!), but also a scripting interface with Python, graphical displays with Matplotlib, PyQt, and OpenGL, and support for many model formats. These include SBML, NeuroML, GENESIS kkit and cell.p formats, HDF5 and NSDF for data writing.\n",
    "\n"
   ]
  },
  {
   "cell_type": "markdown",
   "metadata": {},
   "source": [
    "## How to use this document"
   ]
  },
  {
   "cell_type": "markdown",
   "metadata": {},
   "source": [
    "This page acts as the first stepping stone for learning how moose works. The tutorials here are intended to be interactive, and are presented as python commands. Python commands are identifiable by the ``>>>`` before the command as shown below: \n",
    "\n",
    "        >>> print (\"this_is_a_python_command\")\n",
    "        \n",
    "After each python command is an empty box with ``In []:`` at the beginning of it. These are python terminals, and are the interactive interface of this document. When you see a python command like the one above, you will need to type out the command in the empty box and run it to continue. \n",
    "\n",
    "In order to ``Run`` code after typing it in, you have to select the terminal you want to run and press the ``>| Run`` button in the toolbar above, or press ``SHIFT+ENTER``.\n",
    "\n",
    "Try it out in the box below"
   ]
  },
  {
   "cell_type": "code",
   "execution_count": null,
   "metadata": {},
   "outputs": [],
   "source": []
  },
  {
   "cell_type": "markdown",
   "metadata": {},
   "source": [
    "As you can see, the output of the code appears below the terminal. The code in the rest of this document will interactively show you how to build a basic MOOSE model from scratch. It is important that you run each terminal in each section otherwise important components of the model will be missing at the end. \n",
    "\n",
    "Note that not all the python commands presented have outputs like the one above, but they still do their job nonetheless. So if you run the code and dont see an output, dont worry!"
   ]
  },
  {
   "cell_type": "markdown",
   "metadata": {},
   "source": [
    "This document was made using Jupyter (ipython-notebook). As such, all the text is also generated as ``markdown`` code. If you click the text and it changes format, dont be alarmed. Just run the text block like you would do with the python terminal and it will revert to how it was before. "
   ]
  },
  {
   "cell_type": "markdown",
   "metadata": {},
   "source": [
    "## Importing moose and accessing documentation"
   ]
  },
  {
   "cell_type": "markdown",
   "metadata": {},
   "source": [
    "In a python script you import modules to access the functionalities they provide. In order to use moose, you need to import it within a python environment or at the beginning of your python script. \n",
    "\n",
    "        >>> import moose"
   ]
  },
  {
   "cell_type": "code",
   "execution_count": 7,
   "metadata": {},
   "outputs": [],
   "source": []
  },
  {
   "cell_type": "markdown",
   "metadata": {},
   "source": [
    "This make the ``moose`` module available for use in Python. You can use Python's built-in ``help`` function to read the top-level documentation for the moose module.\n",
    "\n",
    "        >>> help(moose)"
   ]
  },
  {
   "cell_type": "code",
   "execution_count": null,
   "metadata": {},
   "outputs": [],
   "source": []
  },
  {
   "cell_type": "markdown",
   "metadata": {},
   "source": [
    "This will give you an overview of the module. Press ``q`` to exit the pager and get back to the interpreter. You can also access the documentation for individual classes and functions this way.\n",
    "\n",
    "        >>> help(moose.connect)"
   ]
  },
  {
   "cell_type": "code",
   "execution_count": null,
   "metadata": {
    "scrolled": true
   },
   "outputs": [],
   "source": []
  },
  {
   "cell_type": "markdown",
   "metadata": {},
   "source": [
    "To list the available functions and classes you can use ``dir``\n",
    "function.\n",
    "\n",
    "        >>> dir(moose)"
   ]
  },
  {
   "cell_type": "code",
   "execution_count": null,
   "metadata": {},
   "outputs": [],
   "source": []
  },
  {
   "cell_type": "markdown",
   "metadata": {},
   "source": [
    "MOOSE has built-in documentation in the C++-source-code independent of\n",
    "Python. The ``moose`` module has a separate ``doc`` function to extract\n",
    "this documentation.\n",
    "\n",
    "        >>> moose.doc('moose.Compartment')"
   ]
  },
  {
   "cell_type": "code",
   "execution_count": null,
   "metadata": {},
   "outputs": [],
   "source": []
  },
  {
   "cell_type": "markdown",
   "metadata": {},
   "source": [
    "The class level documentation will show whatever the author/maintainer\n",
    "of the class wrote for documentation followed by a list of various kinds\n",
    "of fields and their data types. This can be very useful in an\n",
    "interactive session.\n",
    "\n",
    "Each field can have its own detailed documentation, too.\n",
    "\n",
    "        >>> moose.doc('Compartment.Rm')"
   ]
  },
  {
   "cell_type": "code",
   "execution_count": null,
   "metadata": {},
   "outputs": [],
   "source": []
  },
  {
   "cell_type": "markdown",
   "metadata": {},
   "source": [
    "Note that you need to put the class-name followed by dot followed by\n",
    "field-name within quotes. Otherwise, ``moose.doc`` will receive the\n",
    "field value as parameter and get confused."
   ]
  },
  {
   "cell_type": "markdown",
   "metadata": {},
   "source": [
    "## Creating objects and traversing the object hierarchy"
   ]
  },
  {
   "cell_type": "markdown",
   "metadata": {},
   "source": [
    "ifferent types of biological entities like neurons, enzymes, etc are\n",
    "represented by classes and individual instances of those types are\n",
    "objects of those classes. Objects are the building-blocks of models in\n",
    "MOOSE. We call MOOSE objects ``element`` and use object and element\n",
    "interchangeably in the context of MOOSE. Elements are conceptually laid\n",
    "out in a tree-like hierarchical structure. If you are familiar with file\n",
    "system hierarchies in common operating systems, this should be simple.\n",
    "\n",
    "At the top of the object hierarchy sits the ``Shell``, equivalent to the\n",
    "root directory in UNIX-based systems and represented by the path ``/``.\n",
    "You can list the existing objects under ``/`` using the ``le`` function.\n",
    "\n",
    "        >>> moose.le()"
   ]
  },
  {
   "cell_type": "code",
   "execution_count": null,
   "metadata": {},
   "outputs": [],
   "source": []
  },
  {
   "cell_type": "markdown",
   "metadata": {},
   "source": [
    "``Msgs``, ``clock`` and ``classes`` are predefined objects in MOOSE. And\n",
    "each object can contain other objects inside them. You can see them by\n",
    "passing the path of the parent object to ``le``\n",
    "\n",
    "        >>> moose.le('/Msgs')"
   ]
  },
  {
   "cell_type": "code",
   "execution_count": null,
   "metadata": {},
   "outputs": [],
   "source": []
  },
  {
   "cell_type": "markdown",
   "metadata": {},
   "source": [
    "Now let us create some objects of our own. This can be done by invoking\n",
    "MOOSE class constructors (just like regular Python classes).\n",
    "\n",
    "        >>> model = moose.Neutral('/model')"
   ]
  },
  {
   "cell_type": "code",
   "execution_count": null,
   "metadata": {},
   "outputs": [],
   "source": []
  },
  {
   "cell_type": "markdown",
   "metadata": {},
   "source": [
    "The above creates a ``Neutral`` object named ``model``. ``Neutral`` is\n",
    "the most basic class in MOOSE. A ``Neutral`` element can act as a\n",
    "container for other elements. We can create something under ``model``\n",
    "\n",
    "        >>> soma = moose.Compartment('/model/soma')"
   ]
  },
  {
   "cell_type": "code",
   "execution_count": null,
   "metadata": {},
   "outputs": [],
   "source": []
  },
  {
   "cell_type": "markdown",
   "metadata": {},
   "source": [
    "Every element has a unique path. This is a concatenation of the names of\n",
    "all the objects one has to traverse starting with the root to reach that\n",
    "element.\n",
    "\n",
    "        >>> print soma.path"
   ]
  },
  {
   "cell_type": "code",
   "execution_count": null,
   "metadata": {},
   "outputs": [],
   "source": []
  },
  {
   "cell_type": "markdown",
   "metadata": {},
   "source": [
    "The name of the element can be printed, too.\n",
    "\n",
    "        >>> print soma.name"
   ]
  },
  {
   "cell_type": "code",
   "execution_count": null,
   "metadata": {},
   "outputs": [],
   "source": []
  },
  {
   "cell_type": "markdown",
   "metadata": {},
   "source": [
    "The ``Compartment`` elements model small sections of a neuron. Some\n",
    "basic experiments can be carried out using a single compartment. Let us\n",
    "create another object to act on the ``soma``. This will be a step\n",
    "current generator to inject a current pulse into the soma.\n",
    "\n",
    "        >>> pulse = moose.PulseGen('/model/pulse')"
   ]
  },
  {
   "cell_type": "code",
   "execution_count": null,
   "metadata": {},
   "outputs": [],
   "source": []
  },
  {
   "cell_type": "markdown",
   "metadata": {},
   "source": [
    "You can use ``le`` at any point to see what is there\n",
    "\n",
    "        >>> moose.le('/model')"
   ]
  },
  {
   "cell_type": "code",
   "execution_count": null,
   "metadata": {},
   "outputs": [],
   "source": []
  },
  {
   "cell_type": "markdown",
   "metadata": {},
   "source": [
    "And finally, we can create a ``Table`` to record the time series of the\n",
    "soma's membrane potential. It is good practice to organize the data\n",
    "separately from the model. So we do it as below\n",
    "\n",
    "        >>> data = moose.Neutral('/data')\n",
    "        >>> vmtab = moose.Table('/data/soma_Vm')\n",
    "        \n",
    "(You can type out multiple lines in the terminal by hitting enter after each line. Running the terminal will run them in order from the top to bottom)"
   ]
  },
  {
   "cell_type": "code",
   "execution_count": 21,
   "metadata": {},
   "outputs": [],
   "source": []
  },
  {
   "cell_type": "markdown",
   "metadata": {},
   "source": [
    "Now that we have the essential elements for a small model, we can go on\n",
    "to set the properties of this model and the experimental protocol."
   ]
  },
  {
   "cell_type": "markdown",
   "metadata": {},
   "source": [
    "## Setting the properties of elements: accessing fields"
   ]
  },
  {
   "cell_type": "markdown",
   "metadata": {},
   "source": [
    "Elements have several kinds of fields. The simplest ones are the\n",
    "``value fields``. These can be accessed like ordinary Python members.\n",
    "You can list the available value fields using ``getFieldNames``\n",
    "function\n",
    "\n",
    "          >>> soma.getFieldNames('valueFinfo')"
   ]
  },
  {
   "cell_type": "code",
   "execution_count": null,
   "metadata": {
    "scrolled": true
   },
   "outputs": [],
   "source": []
  },
  {
   "cell_type": "markdown",
   "metadata": {},
   "source": [
    "Here ``valueFinfo`` is the type name for value fields. ``Finfo`` is\n",
    "short form of *field information*. For each type of field there is a\n",
    "name ending with ``-Finfo``. Execute the code above to see what it outputs.\n",
    "\n",
    "Some of the fields in the output are for internal or advanced use, some give access\n",
    "to the physical properties of the biological entity we are trying to\n",
    "model. Now we are interested in ``Cm``, ``Rm``, ``Em`` and ``initVm``.\n",
    "In the most basic form, a neuronal compartment acts like a parallel\n",
    "``RC`` circuit with a battery attached. Here ``R`` and ``C`` are\n",
    "resistor and capacitor connected in parallel, and the battery with\n",
    "voltage ``Em`` is in series with the resistor, as shown below:\n",
    "\n",
    "<img src=\"neuronalcompartment.jpg\">\n",
    "\n",
    "The fields are populated with some defaults.\n",
    "\n",
    "    >>> print soma.Cm, soma.Rm, soma.Vm, soma.Em, soma.initVm"
   ]
  },
  {
   "cell_type": "code",
   "execution_count": null,
   "metadata": {},
   "outputs": [],
   "source": []
  },
  {
   "cell_type": "markdown",
   "metadata": {},
   "source": [
    "You can set the ``Cm`` and ``Rm`` fields to something realistic using\n",
    "simple assignment (we follow SI unit).\n",
    "\n",
    "        >>> soma.Cm = 1e-9\n",
    "        >>> soma.Rm = 1e7\n",
    "        >>> soma.initVm = -0.07"
   ]
  },
  {
   "cell_type": "code",
   "execution_count": null,
   "metadata": {},
   "outputs": [],
   "source": []
  },
  {
   "cell_type": "markdown",
   "metadata": {},
   "source": [
    "Instead of writing print statements for each field, you could use the\n",
    "utility function showfield to see that the changes took effect\n",
    "\n",
    "        >>> moose.showfield(soma)"
   ]
  },
  {
   "cell_type": "code",
   "execution_count": null,
   "metadata": {},
   "outputs": [],
   "source": []
  },
  {
   "cell_type": "markdown",
   "metadata": {},
   "source": [
    "Now we can setup the current pulse to be delivered to the soma\n",
    "\n",
    "        >>> pulse.delay[0] = 50e-3\n",
    "        >>> pulse.width[0] = 100e-3\n",
    "        >>> pulse.level[0] = 1e-9\n",
    "        >>> pulse.delay[1] = 1e9"
   ]
  },
  {
   "cell_type": "code",
   "execution_count": null,
   "metadata": {},
   "outputs": [],
   "source": []
  },
  {
   "cell_type": "markdown",
   "metadata": {},
   "source": [
    "This tells the pulse generator to create a 100 ms long pulse 50 ms after\n",
    "the start of the simulation. The amplitude of the pulse is set to 1 nA.\n",
    "We set the delay for the next pulse to a very large value (larger than\n",
    "the total simulation time) so that the stimulation stops after the first\n",
    "pulse. Had we set ``pulse.delay = 0`` , it would have generated a pulse\n",
    "train at 50 ms intervals."
   ]
  },
  {
   "cell_type": "markdown",
   "metadata": {},
   "source": [
    "## Putting them together: setting up connections"
   ]
  },
  {
   "cell_type": "markdown",
   "metadata": {},
   "source": [
    "In order for the elements to interact during simulation, we need to\n",
    "connect them via messages. Elements are connected to each other using\n",
    "special source and destination fields. These types are named\n",
    "``srcFinfo`` and ``destFinfo``. You can query the available source and\n",
    "destination fields on an element using ``getFieldNames`` as before. This\n",
    "time, let us do it another way: by the class name\n",
    "\n",
    "        >>> moose.getFieldNames('PulseGen', 'srcFinfo')"
   ]
  },
  {
   "cell_type": "code",
   "execution_count": null,
   "metadata": {},
   "outputs": [],
   "source": []
  },
  {
   "cell_type": "markdown",
   "metadata": {},
   "source": [
    "This form has the advantage that you can get information about a class\n",
    "without creating elements of that class.\n",
    "\n",
    "Here ``childMsg`` is a source field that is used by the MOOSE internals\n",
    "to connect child elements to parent elements. The second one is of our\n",
    "interest. Check out the built-in documentation here\n",
    "\n",
    "        >>> moose.doc('PulseGen.output')"
   ]
  },
  {
   "cell_type": "code",
   "execution_count": null,
   "metadata": {},
   "outputs": [],
   "source": []
  },
  {
   "cell_type": "markdown",
   "metadata": {},
   "source": [
    "so this is the output of the pulse generator and this must be injected\n",
    "into the ``soma`` to stimulate it. But where in the ``soma`` can we send\n",
    "it? Again, MOOSE has some introspection built in.\n",
    "\n",
    "        >>> soma.getFieldNames('destFinfo')"
   ]
  },
  {
   "cell_type": "code",
   "execution_count": null,
   "metadata": {
    "scrolled": true
   },
   "outputs": [],
   "source": []
  },
  {
   "cell_type": "markdown",
   "metadata": {},
   "source": [
    "Now that is a long list. But much of it are fields for internal or\n",
    "special use. Anything that starts with ``get`` or ``set`` are internal\n",
    "``destFinfo`` used for accessing value fields (we shall use one of those\n",
    "when setting up data recording). Among the rest ``injectMsg`` seems to\n",
    "be the most likely candidate. Use the ``connect`` function to connect\n",
    "the pulse generator output to the soma input\n",
    "\n",
    "        >>> m = moose.connect(pulse, 'output', soma, 'injectMsg')"
   ]
  },
  {
   "cell_type": "code",
   "execution_count": null,
   "metadata": {},
   "outputs": [],
   "source": []
  },
  {
   "cell_type": "markdown",
   "metadata": {},
   "source": [
    "``connect(source, source_field, dest, dest_field)`` creates a\n",
    "``message`` from ``source`` element's ``source_field`` field to ``dest``\n",
    "element's ``dest_field`` field and returns that message. Messages are\n",
    "also elements. You can print them to see their identity\n",
    "\n",
    "        >>> print m"
   ]
  },
  {
   "cell_type": "code",
   "execution_count": null,
   "metadata": {},
   "outputs": [],
   "source": []
  },
  {
   "cell_type": "markdown",
   "metadata": {},
   "source": [
    "You can print any element as above and the string representation will\n",
    "show you the class, two numbers(\\ ``id`` and ``dataId``) uniquely\n",
    "identifying it among all elements, and its path. You can get some more\n",
    "information about a message\n",
    "\n",
    "        >>> print m.e1.path, m.e2.path, m.srcFieldsOnE1, m.destFieldsOnE2\n"
   ]
  },
  {
   "cell_type": "code",
   "execution_count": null,
   "metadata": {},
   "outputs": [],
   "source": []
  },
  {
   "cell_type": "markdown",
   "metadata": {},
   "source": [
    "will confirm what you already know.\n",
    "\n",
    "A message element has fields ``e1`` and ``e2`` referring to the elements\n",
    "it connects. For single one-directional messages these are source and\n",
    "destination elements, which are ``pulse`` and ``soma`` respectively. The\n",
    "next two items are lists of the field names which are connected by this\n",
    "message.\n",
    "\n",
    "You could also check which elements are connected to a particular field\n",
    "\n",
    "        >>> print soma.neighbors['injectMsg']\n"
   ]
  },
  {
   "cell_type": "code",
   "execution_count": null,
   "metadata": {},
   "outputs": [],
   "source": []
  },
  {
   "cell_type": "markdown",
   "metadata": {},
   "source": [
    "Notice that the list contains something called vec. We discuss this\n",
    "`later <#some-more-details>`__. Also ``neighbors`` is a new kind of\n",
    "field: ``lookupFinfo`` which behaves like a dictionary. Next we connect\n",
    "the table to the soma to retrieve its membrane potential ``Vm``. This is\n",
    "where all those ``destFinfo`` starting with ``get`` or ``set`` come in\n",
    "use. For each value field ``X``, there is a ``destFinfo`` ``get{X}`` to\n",
    "retrieve the value at simulation time. This is used by the table to\n",
    "record the values ``Vm`` takes. \n",
    "\n",
    "\t    >>> moose.connect(vmtab, 'requestOut', soma, 'getVm')\n"
   ]
  },
  {
   "cell_type": "code",
   "execution_count": null,
   "metadata": {},
   "outputs": [],
   "source": []
  },
  {
   "cell_type": "markdown",
   "metadata": {},
   "source": [
    "This finishes our model and recording setup. You might be wondering\n",
    "about the source-destination relationship above. It is natural to think\n",
    "that ``soma`` is the source of ``Vm`` values which should be sent to\n",
    "``vmtab``. But here ``requestOut`` is a ``srcFinfo`` acting like a\n",
    "reply card. This mode of obtaining data is called *pull* mode.\n",
    "\n",
    "You can skip the next section on fine control of the timing of updates\n",
    "and read *Running the simulation*"
   ]
  },
  {
   "cell_type": "markdown",
   "metadata": {},
   "source": [
    " ## Scheduling"
   ]
  },
  {
   "cell_type": "markdown",
   "metadata": {},
   "source": [
    "With the model all set up, we have to schedule the\n",
    "simulation. Different components in a model may have different rates\n",
    "of update. For example, the dynamics of electrical components require\n",
    "the update intervals to be of the order 0.01 ms whereas chemical\n",
    "components can be as slow as 1 s. Also, the results may depend on the\n",
    "sequence of the updates of different components. These issues are\n",
    "addressed in MOOSE using a clock-based update scheme. Each model\n",
    "component is scheduled on a clock tick (think of multiple hands of a\n",
    "clock ticking at different intervals and the object being updated at\n",
    "each tick of the corresponding hand). The scheduling also guarantees\n",
    "the correct sequencing of operations. For example, your Table objects\n",
    "should always be scheduled *after* the computations that they are\n",
    "recording, otherwise they will miss the outcome of the latest calculation.\n",
    "\n",
    "MOOSE has a central clock element (``/clock``) to manage\n",
    "time. Clock has a set of ``Tick`` elements under it that take care of\n",
    "advancing the state of each element with time as the simulation\n",
    "progresses. Every element to be included in a simulation must be\n",
    "assigned a tick. Each tick can have a different ticking interval\n",
    "(``dt``) that allows different elements to be updated at different\n",
    "rates.\n",
    "\n",
    "By default, every object is assigned a clock tick with reasonable default\n",
    "timesteps as soon it is created\n",
    "\n",
    "    Class type                      tick    dt\n",
    "    Electrical computations:        0-7     50 microseconds\n",
    "    electrical compartments,\n",
    "    V and ligand-gated ion channels,\n",
    "    Calcium conc and Nernst,\n",
    "    stimulus generators and tables,\n",
    "    HSolve.\n",
    "\n",
    "    Table (to plot elec. signals)   8       100 microseconds\n",
    "\n",
    "    Diffusion solver                10      0.01 seconds\n",
    "    Chemical computations:          11-17   0.1 seconds\n",
    "    Pool, Reac, Enz, MMEnz,\n",
    "    Func, Function,\n",
    "    Gsolve, Ksolve,\n",
    "    Stats (to do stats on outputs)\n",
    "\n",
    "    Table2 (to plot chem. signals)  18      1 second\n",
    "\n",
    "    HDF5DataWriter                  30      1 second\n",
    "    Postmaster (for parallel        31      0.01 seconds\n",
    "    computations)\n",
    "    \n",
    "There are 32 available clock ticks. Numbers 20 to 29 are\n",
    "unassigned so you can use them for whatever purpose you like.\n",
    "\n",
    "If you want fine control over the scheduling, there are three things\n",
    "you can do.\n",
    "\n",
    "    * Alter the 'tick' field on the object\n",
    "    * Alter the dt associated with a given tick, using the\n",
    "      **moose.setClock( tick, newdt)** command\n",
    "    * Go through a wildcard path of objects reassigning there clock ticks,\n",
    "      using **moose.useClock( path, newtick, function)**.\n",
    "\n",
    "Here we discuss these in more detail.\n",
    "\n",
    "**Altering the 'tick' field**\n",
    "\n",
    "Every object knows which tick and dt it uses\n",
    "\n",
    "    >>> a = moose.Pool( '/a' )\n",
    "    >>> print a.tick, a.dt"
   ]
  },
  {
   "cell_type": "code",
   "execution_count": null,
   "metadata": {},
   "outputs": [],
   "source": []
  },
  {
   "cell_type": "markdown",
   "metadata": {},
   "source": [
    "The ``tick`` field on every object can be changed, and the object will\n",
    "adopt whatever clock dt is used for that tick. The ``dt`` field is\n",
    "readonly, because changing it would have side-effects on every object\n",
    "associated with the current tick.\n",
    "\n",
    "Ticks **-1** and **-2** are special: They both tell the object that it is\n",
    "disabled (not scheduled for any operations). An object with a\n",
    "tick of **-1** will be left alone entirely. A tick of **-2** is used in\n",
    "solvers to indicate that should the solver be removed, the object will\n",
    "revert to its default tick.\n",
    "\n",
    "**Altering the dt associated with a given tick**\n",
    "\n",
    "We initialize the ticks and set their ``dt`` values using the\n",
    "``setClock`` function.\n",
    "\n",
    "        >>> moose.setClock(0, 0.025e-3)\n",
    "        >>> moose.setClock(1, 0.025e-3)\n",
    "        >>> moose.setClock(2, 0.25e-3)"
   ]
  },
  {
   "cell_type": "code",
   "execution_count": null,
   "metadata": {},
   "outputs": [],
   "source": []
  },
  {
   "cell_type": "markdown",
   "metadata": {},
   "source": [
    "This will initialize tick #0 and tick #1 with ``dt = 25`` Î¼s and tick #2\n",
    "with ``dt = 250`` Î¼s. Thus all the elements scheduled on ticks #0 and 1\n",
    "will be updated every 25 Î¼s and those on tick #2 every 250 Î¼s. We use\n",
    "the faster clocks for the model components where finer timescale is\n",
    "required for numerical accuracy and the slower clock to sample the\n",
    "values of ``Vm``.\n",
    "\n",
    "Note that if you alter the dt associated with a given tick, this will\n",
    "affect the update time for *all* the objects using that clock tick. If\n",
    "you're unsure that you want to do this, use one of the vacant ticks.\n",
    "\n",
    "\n",
    "**Assigning clock ticks to all objects in a wildcard path**\n",
    "\n",
    "To assign tick #2 to the table for recording ``Vm``, we pass its\n",
    "whole path to the ``useClock`` function.\n",
    "\n",
    "        >>> moose.useClock(2, '/data/soma_Vm', 'process')\n"
   ]
  },
  {
   "cell_type": "code",
   "execution_count": null,
   "metadata": {},
   "outputs": [],
   "source": []
  },
  {
   "cell_type": "markdown",
   "metadata": {},
   "source": [
    "Read this as \"use tick # 2 on the element at path ``/data/soma_Vm`` to\n",
    "call its ``process`` method at every step\". Every class that is supposed\n",
    "to update its state or take some action during simulation implements a\n",
    "``process`` method. And in most cases that is the method we want the\n",
    "ticks to call at every time step. A less common method is ``init``,\n",
    "which is implemented in some classes to interleave actions or updates\n",
    "that must be executed in a specific order [4]_. The ``Compartment``\n",
    "class is one such case where a neuronal compartment has to know the\n",
    "``Vm`` of its neighboring compartments before it can calculate its\n",
    "``Vm`` for the next step. This is done with:\n",
    "\n",
    "        >>> moose.useClock(0, soma.path, 'init')\n"
   ]
  },
  {
   "cell_type": "code",
   "execution_count": null,
   "metadata": {},
   "outputs": [],
   "source": []
  },
  {
   "cell_type": "markdown",
   "metadata": {},
   "source": [
    "Here we used the ``path`` field instead of writing the path explicitly.\n",
    "\n",
    "Next we assign tick #1 to process method of everything under ``/model``.\n",
    "\n",
    "        >>> moose.useClock(1, '/model/##', 'process')"
   ]
  },
  {
   "cell_type": "code",
   "execution_count": null,
   "metadata": {},
   "outputs": [],
   "source": []
  },
  {
   "cell_type": "markdown",
   "metadata": {},
   "source": [
    "Here the second argument is an example of wild-card path. The ``##``\n",
    "matches everything under the path preceding it at any depth. Thus if we\n",
    "had some other objects under ``/model/soma``, ``process`` method of\n",
    "those would also have been scheduled on tick #1. This is very useful for\n",
    "complex models where it is tedious to scheduled each element\n",
    "individually. In this case we could have used ``/model/#`` as well for\n",
    "the path. This is a single level wild-card which matches only the\n",
    "children of ``/model`` but does not go farther down in the hierarchy."
   ]
  },
  {
   "cell_type": "markdown",
   "metadata": {},
   "source": [
    "## Running the simulation"
   ]
  },
  {
   "cell_type": "markdown",
   "metadata": {},
   "source": [
    "Once the model is all set up, we can put the model to its\n",
    "initial state using\n",
    "\n",
    "        >>> moose.reinit()"
   ]
  },
  {
   "cell_type": "code",
   "execution_count": null,
   "metadata": {},
   "outputs": [],
   "source": []
  },
  {
   "cell_type": "markdown",
   "metadata": {},
   "source": [
    "You may remember that we had changed initVm from ``-0.06`` to ``-0.07``.\n",
    "The reinit call we initialize ``Vm`` to that value. You can verify that\n",
    "\n",
    "        >>> print soma.Vm"
   ]
  },
  {
   "cell_type": "code",
   "execution_count": null,
   "metadata": {},
   "outputs": [],
   "source": []
  },
  {
   "cell_type": "markdown",
   "metadata": {},
   "source": [
    "Finally, we run the simulation for 300 ms\n",
    "\n",
    "        >>> moose.start(300e-3)"
   ]
  },
  {
   "cell_type": "code",
   "execution_count": null,
   "metadata": {},
   "outputs": [],
   "source": []
  },
  {
   "cell_type": "markdown",
   "metadata": {},
   "source": [
    "The data will be recorded by the ``soma_vm`` table, which is referenced\n",
    "by the variable ``vmtab``. The ``Table`` class provides a numpy array\n",
    "interface to its content. The field is ``vector``. So you can easily plot\n",
    "the membrane potential using the `matplotlib <http://matplotlib.org/>`__\n",
    "library.\n",
    "\n",
    "In jupyter notebooks like this one, you need to add an extra line to make the plot show up in the document, which is as follows:\n",
    "\n",
    "        >>> %matplotlib inline\n",
    "        \n",
    "However, note that this command is NOT necessary when running the code outside of this document, and will return an error. The command has already been added to the terminal, so you only have to type the following code in after it:\n",
    "\n",
    "        >>> import pylab\n",
    "        >>> t = pylab.linspace(0, 300e-3, len(vmtab.vector))\n",
    "        >>> pylab.plot(t, vmtab.vector)\n",
    "        >>> pylab.show()"
   ]
  },
  {
   "cell_type": "code",
   "execution_count": null,
   "metadata": {
    "scrolled": true
   },
   "outputs": [],
   "source": [
    "%matplotlib inline"
   ]
  },
  {
   "cell_type": "markdown",
   "metadata": {},
   "source": [
    "The first line (after %matplotlib inline) imports the pylab submodule from matplotlib. This useful\n",
    "for interactive plotting. The second line creates the time points to\n",
    "match our simulation time and length of the recorded data. The third\n",
    "line plots the ``Vm`` and the fourth line makes it visible. Does the\n",
    "plot match your expectation?"
   ]
  },
  {
   "cell_type": "markdown",
   "metadata": {},
   "source": [
    "## The Entire Model"
   ]
  },
  {
   "cell_type": "markdown",
   "metadata": {},
   "source": [
    "After going through the previous steps, you should have a good understanding of how to carry out the basic operations in moose, how to manipulate the different objects in a simple moose model, and how to use the documentation features to get more information about the models you might want to create in the future.\n",
    "\n",
    "However, if you might have missed a part of the model, the final output may not be as you expected. If that is the case, the entire model is outlined below to see how it all fits together. \n",
    "\n",
    "This is also a great opportunity to experiment with different parameters of the model to see how the output changes, and get a more intuitive understanding of each component of the model. \n",
    "\n",
    "To see the entire model in one place and in action, click the link below:\n",
    "\n",
    "[Click here](Intro_code.ipynb)"
   ]
  },
  {
   "cell_type": "markdown",
   "metadata": {},
   "source": [
    "## Some more details"
   ]
  },
  {
   "cell_type": "markdown",
   "metadata": {},
   "source": [
    "### ``vec``, ``melement`` and ``element``"
   ]
  },
  {
   "cell_type": "markdown",
   "metadata": {},
   "source": [
    "MOOSE elements are instances of the class ``melement``. ``Compartment``,\n",
    "``PulseGen`` and other MOOSE classes are derived classes of\n",
    "``melement``. All ``melement`` instances are contained in array-like\n",
    "structures called ``vec``. Each ``vec`` object has a numerical\n",
    "``id_`` field uniquely identifying it. An ``vec`` can have one or\n",
    "more elements. You can create an array of elements\n",
    "\n",
    "        >>> comp_array = moose.vec('/model/comp', n=3, dtype='Compartment')"
   ]
  },
  {
   "cell_type": "code",
   "execution_count": null,
   "metadata": {},
   "outputs": [],
   "source": []
  },
  {
   "cell_type": "markdown",
   "metadata": {},
   "source": [
    "This tells MOOSE to create an ``vec`` of 3 ``Compartment`` elements\n",
    "with path ``/model/comp``. For ``vec`` objects with multiple\n",
    "elements, the index in the ``vec`` is part of the element path.\n",
    "\n",
    "        >>> print comp_array.path, type(comp_array)\n"
   ]
  },
  {
   "cell_type": "code",
   "execution_count": null,
   "metadata": {},
   "outputs": [],
   "source": []
  },
  {
   "cell_type": "markdown",
   "metadata": {},
   "source": [
    "shows that ``comp_array`` is an instance of ``vec`` class. You can\n",
    "loop through the elements in an ``vec`` like a Python list\n",
    "\n",
    "        >>> for comp in comp_array:\n",
    "        ...     print comp.path, type(comp)\n",
    "        \n",
    "For those who are unfamiliar with pyton, it is important that you indent the second line in this way, as it will otherwise not run properly. The terminal below will automatically indent it for you once you write the first line. "
   ]
  },
  {
   "cell_type": "code",
   "execution_count": null,
   "metadata": {},
   "outputs": [],
   "source": []
  },
  {
   "cell_type": "markdown",
   "metadata": {},
   "source": [
    "Thus elements are instances of class ``melement``. \n",
    "\n",
    "All elements in an\n",
    "``vec`` share the ``id_`` of the ``vec`` which can retrieved by\n",
    "``melement.getId()``. A frequent use case is that after loading a model from a file one knows\n",
    "the paths of various model components but does not know the appropriate\n",
    "class name for them. For this scenario there is a function called\n",
    "``element`` which converts (\"casts\" in programming jargon) a path or any\n",
    "moose object to its proper MOOSE class. You can create additional\n",
    "references to ``soma`` in the example this way\n",
    "\n",
    "        x = moose.element('/model/soma')"
   ]
  },
  {
   "cell_type": "code",
   "execution_count": null,
   "metadata": {},
   "outputs": [],
   "source": []
  },
  {
   "cell_type": "markdown",
   "metadata": {},
   "source": [
    "Any MOOSE class can be extended in Python. But any additional attributes\n",
    "added in Python are invisible to MOOSE. So those can be used for\n",
    "functionalities at the Python level only. You can see\n",
    "``moose-examples/squid/squid.py`` for an example."
   ]
  },
  {
   "cell_type": "markdown",
   "metadata": {},
   "source": [
    "## ``Finfos``"
   ]
  },
  {
   "cell_type": "markdown",
   "metadata": {},
   "source": [
    "The following kinds of ``Finfo`` are accessible in Python\n",
    "\n",
    "-  **``valueFinfo``** : simple values. For each readable ``valueFinfo``\n",
    "   ``XYZ`` there is a ``destFinfo`` ``getXYZ`` that can be used for\n",
    "   reading the value at run time. If ``XYZ`` is writable then there will\n",
    "   also be ``destFinfo`` to set it: ``setXYZ``. Example:\n",
    "   ``Compartment.Rm``\n",
    "-  **``lookupFinfo``** : lookup tables. These fields act like Python\n",
    "   dictionaries but iteration is not supported. Example:\n",
    "   ``Neutral.neighbors``.\n",
    "-  **``srcFinfo``** : source of a message. Example:\n",
    "   ``PulseGen.output``.\n",
    "-  **``destFinfo``** : destination of a message. Example:\n",
    "   ``Compartment.injectMsg``. Apart from being used in setting up\n",
    "   messages, these are accessible as functions from Python.\n",
    "   ``HHGate.setupAlpha`` is an example.\n",
    "-  **``sharedFinfo``** : a composition of source and destination fields.\n",
    "   Example: ``Compartment.channel``."
   ]
  },
  {
   "cell_type": "markdown",
   "metadata": {},
   "source": [
    "## Moving on"
   ]
  },
  {
   "cell_type": "markdown",
   "metadata": {},
   "source": [
    "Now you know the basics of pymoose and how to access the help\n",
    "system. You can figure out how to do specific things by looking at the\n",
    "'cookbook`.  In addition, the ``moose-examples/snippets`` directory\n",
    "in your MOOSE installation has small executable python scripts that\n",
    "show usage of specific classes or functionalities. Beyond that you can\n",
    "browse the code in the ``moose-examples`` directory to see some more complex\n",
    "models.\n",
    "\n",
    "MOOSE is backward compatible with GENESIS and most GENESIS classes have\n",
    "been reimplemented in MOOSE. There is slight change in naming (MOOSE\n",
    "uses CamelCase), and setting up messages are different. But `GENESIS\n",
    "documentation <http://www.genesis-sim.org/GENESIS/Hyperdoc/Manual.html>`__\n",
    "is still a good source for documentation on classes that have been\n",
    "ported from GENESIS.\n",
    "\n",
    "If the built-in MOOSE classes do not satisfy your needs entirely, you\n",
    "are welcome to add new classes to MOOSE. The API documentation will\n",
    "help you get started."
   ]
  }
 ],
 "metadata": {
  "kernelspec": {
   "display_name": "Python 2",
   "language": "python",
   "name": "python2"
  },
  "language_info": {
   "codemirror_mode": {
    "name": "ipython",
    "version": 2
   },
   "file_extension": ".py",
   "mimetype": "text/x-python",
   "name": "python",
   "nbconvert_exporter": "python",
   "pygments_lexer": "ipython2",
   "version": "2.7.12"
  }
 },
 "nbformat": 4,
 "nbformat_minor": 2
}
